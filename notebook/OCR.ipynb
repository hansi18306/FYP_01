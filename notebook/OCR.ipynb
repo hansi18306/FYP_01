{
  "nbformat": 4,
  "nbformat_minor": 0,
  "metadata": {
    "colab": {
      "provenance": []
    },
    "kernelspec": {
      "name": "python3",
      "display_name": "Python 3"
    },
    "language_info": {
      "name": "python"
    }
  },
  "cells": [
    {
      "cell_type": "markdown",
      "source": [
        "## Optical Character Recognition"
      ],
      "metadata": {
        "id": "W_iYR0ViTbgs"
      }
    },
    {
      "cell_type": "markdown",
      "source": [
        "Optical Character Recognition(OCR) has been a popular task in Computer Vision. Tesseract is the most open-source software available for OCR. It was initially developed by HP as a tool in C++. Since 2006 it is developed by Google. The original software is available as a command-line tool for windows. We are living in a python world. Because of its popularity,the tool is also available in python--developed and maintained as an opensource project."
      ],
      "metadata": {
        "id": "l9K8DuL6TfTw"
      }
    },
    {
      "cell_type": "code",
      "source": [
        "path = \"/content/maxresdefault.png\""
      ],
      "metadata": {
        "id": "ZVXCkA1vTzqp"
      },
      "execution_count": null,
      "outputs": []
    },
    {
      "cell_type": "markdown",
      "source": [
        "Install tesseract-OCR in Google Colab."
      ],
      "metadata": {
        "id": "hGyv72PjThOB"
      }
    },
    {
      "cell_type": "code",
      "source": [
        "!pip install -q pytesseract"
      ],
      "metadata": {
        "id": "LXT6S6j-Tk2E"
      },
      "execution_count": null,
      "outputs": []
    },
    {
      "cell_type": "markdown",
      "source": [
        "Import libraries"
      ],
      "metadata": {
        "id": "Bd8AxfLdTozd"
      }
    },
    {
      "cell_type": "code",
      "source": [
        "import pytesseract\n",
        "import shutil\n",
        "import os\n",
        "import random\n",
        "try:\n",
        "    from PIL import Image\n",
        "except ImportError:\n",
        "    import Image"
      ],
      "metadata": {
        "id": "w3i-3m1pTqC0"
      },
      "execution_count": null,
      "outputs": []
    },
    {
      "cell_type": "code",
      "source": [
        "extractedInformation = pytesseract.image_to_string(Image.open(path))"
      ],
      "metadata": {
        "id": "xeT9Suj3Tx9l"
      },
      "execution_count": null,
      "outputs": []
    },
    {
      "cell_type": "code",
      "source": [
        "print(extractedInformation)"
      ],
      "metadata": {
        "colab": {
          "base_uri": "https://localhost:8080/"
        },
        "id": "MVTN4bFdT93f",
        "outputId": "8b459184-e3a8-4ef0-e5ab-7cebd9e85956"
      },
      "execution_count": null,
      "outputs": [
        {
          "output_type": "stream",
          "name": "stdout",
          "text": [
            " \n",
            "\n",
            "Re\n",
            "Ah shit, here we go again. _\n",
            "Can ae\n",
            "\f\n"
          ]
        }
      ]
    }
  ]
}