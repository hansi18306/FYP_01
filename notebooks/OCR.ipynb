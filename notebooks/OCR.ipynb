{
  "cells": [
    {
      "cell_type": "markdown",
      "metadata": {
        "id": "W_iYR0ViTbgs"
      },
      "source": [
        "## Optical Character Recognition"
      ]
    },
    {
      "cell_type": "markdown",
      "metadata": {
        "id": "l9K8DuL6TfTw"
      },
      "source": [
        "Optical Character Recognition(OCR) has been a popular task in Computer Vision. Tesseract is the most open-source software available for OCR. It was initially developed by HP as a tool in C++. Since 2006 it is developed by Google. The original software is available as a command-line tool for windows. We are living in a python world. Because of its popularity,the tool is also available in python--developed and maintained as an opensource project."
      ]
    },
    {
      "cell_type": "code",
      "execution_count": null,
      "metadata": {
        "id": "ZVXCkA1vTzqp"
      },
      "outputs": [],
      "source": [
        "path = \"/content/maxresdefault.png\""
      ]
    },
    {
      "cell_type": "markdown",
      "metadata": {
        "id": "hGyv72PjThOB"
      },
      "source": [
        "Install tesseract-OCR in Google Colab."
      ]
    },
    {
      "cell_type": "code",
      "execution_count": null,
      "metadata": {
        "id": "LXT6S6j-Tk2E"
      },
      "outputs": [],
      "source": [
        "!pip install -q pytesseract"
      ]
    },
    {
      "cell_type": "markdown",
      "metadata": {
        "id": "Bd8AxfLdTozd"
      },
      "source": [
        "Import libraries"
      ]
    },
    {
      "cell_type": "code",
      "execution_count": null,
      "metadata": {
        "id": "w3i-3m1pTqC0"
      },
      "outputs": [],
      "source": [
        "import pytesseract\n",
        "import shutil\n",
        "import os\n",
        "import random\n",
        "try:\n",
        "    from PIL import Image\n",
        "except ImportError:\n",
        "    import Image"
      ]
    },
    {
      "cell_type": "code",
      "execution_count": null,
      "metadata": {
        "id": "xeT9Suj3Tx9l"
      },
      "outputs": [],
      "source": [
        "extractedInformation = pytesseract.image_to_string(Image.open(path))"
      ]
    },
    {
      "cell_type": "code",
      "execution_count": null,
      "metadata": {
        "colab": {
          "base_uri": "https://localhost:8080/"
        },
        "id": "MVTN4bFdT93f",
        "outputId": "8b459184-e3a8-4ef0-e5ab-7cebd9e85956"
      },
      "outputs": [
        {
          "name": "stdout",
          "output_type": "stream",
          "text": [
            " \n",
            "\n",
            "Re\n",
            "Ah shit, here we go again. _\n",
            "Can ae\n",
            "\f\n"
          ]
        }
      ],
      "source": [
        "print(extractedInformation)"
      ]
    }
  ],
  "metadata": {
    "colab": {
      "provenance": []
    },
    "kernelspec": {
      "display_name": "Python 3",
      "name": "python3"
    },
    "language_info": {
      "name": "python"
    }
  },
  "nbformat": 4,
  "nbformat_minor": 0
}
